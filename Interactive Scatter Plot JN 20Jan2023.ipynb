{
 "cells": [
  {
   "cell_type": "code",
   "execution_count": 1,
   "id": "adf6196c",
   "metadata": {},
   "outputs": [],
   "source": [
    "import py5\n",
    "import py5_tools\n",
    "import numpy as np\n",
    "import pandas as pd"
   ]
  },
  {
   "cell_type": "code",
   "execution_count": 2,
   "id": "c1272128",
   "metadata": {},
   "outputs": [],
   "source": [
    "# Create a dataset:\n",
    "df=pd.DataFrame({'x_values': [250, 123, 302, 325, 389, 175], 'y_values': [134, 262, 349, 122, 213, 319] })"
   ]
  },
  {
   "cell_type": "code",
   "execution_count": 3,
   "id": "04d9e948",
   "metadata": {},
   "outputs": [],
   "source": [
    "x_vals = [250, 123, 302, 325, 389, 175]\n",
    "y_vals = [134, 262, 349, 122, 213, 319]\n",
    "x_axis = 400\n",
    "y_axis = 400\n",
    "point_thick = 8"
   ]
  },
  {
   "cell_type": "code",
   "execution_count": 4,
   "id": "39f1d1f7",
   "metadata": {},
   "outputs": [],
   "source": [
    "#setup the sketch portal\n",
    "def setup():\n",
    "    py5.size(x_axis, y_axis, py5.P3D)                  #setup the size and rendering of Sketch Portal\n",
    "    py5.stroke_weight(point_thick)                         #setup the appearance of things in the portal  \n",
    "    \n",
    "def draw():\n",
    "    py5.background(192)\n",
    "\n",
    "    for (x, y) in zip(df.x_values, df.y_values):       # Plot the scatterplot\n",
    "        py5.ellipse(x, y, 5, 5)\n",
    "    \n",
    "def mouse_clicked(e):\n",
    "\n",
    "    py5.println(e.get_x(), e.get_y())\n",
    "    \n",
    "    msgs = []\n",
    "    \n",
    "    for (x, y) in zip(df.x_values, df.y_values):\n",
    "        \n",
    "        range_1 = range(x-10, x+10, 1)\n",
    "        range_2 = range(y-10, y+10, 1)\n",
    "        \n",
    "        if e.get_x() in range_1 and e.get_y() in range_2:\n",
    "            py5.println(e.get_x(), e.get_y())\n",
    "            msgs.append('Target acquired')\n",
    "            py5.println(msgs)"
   ]
  },
  {
   "cell_type": "code",
   "execution_count": 5,
   "id": "b5b00861",
   "metadata": {},
   "outputs": [
    {
     "data": {
      "application/vnd.jupyter.widget-view+json": {
       "model_id": "593419b9a948458bbb8629644e275e8f",
       "version_major": 2,
       "version_minor": 0
      },
      "text/plain": [
       "Output(layout=Layout(max_height='200px', overflow='auto'))"
      ]
     },
     "metadata": {},
     "output_type": "display_data"
    },
    {
     "data": {
      "application/vnd.jupyter.widget-view+json": {
       "model_id": "00a6740d04fb4df79f0d125e3f153595",
       "version_major": 2,
       "version_minor": 0
      },
      "text/plain": [
       "VBox(children=(Py5SketchPortal(height='400', layout=Layout(border='1px solid gray', height='402px', width='402…"
      ]
     },
     "metadata": {},
     "output_type": "display_data"
    },
    {
     "name": "stdout",
     "output_type": "stream",
     "text": [
      "253 133\n",
      "253 133\n",
      "['Target acquired']\n"
     ]
    }
   ],
   "source": [
    "py5.run_sketch()\n",
    "\n",
    "portal = py5_tools.sketch_portal(quality=75, scale=1.0)\n",
    "\n",
    "portal"
   ]
  },
  {
   "cell_type": "code",
   "execution_count": null,
   "id": "6d4768a1",
   "metadata": {},
   "outputs": [],
   "source": []
  }
 ],
 "metadata": {
  "kernelspec": {
   "display_name": "Python 3 (ipykernel)",
   "language": "python",
   "name": "python3"
  },
  "language_info": {
   "codemirror_mode": {
    "name": "ipython",
    "version": 3
   },
   "file_extension": ".py",
   "mimetype": "text/x-python",
   "name": "python",
   "nbconvert_exporter": "python",
   "pygments_lexer": "ipython3",
   "version": "3.9.13"
  }
 },
 "nbformat": 4,
 "nbformat_minor": 5
}
