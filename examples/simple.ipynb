{
 "cells": [
  {
   "cell_type": "code",
   "execution_count": null,
   "id": "387fc833-a6fa-4e43-9fa7-37a24111c957",
   "metadata": {},
   "outputs": [],
   "source": [
    "import sciviewer as sciv"
   ]
  },
  {
   "cell_type": "code",
   "execution_count": null,
   "id": "3d9da2b8-4eb2-45b5-a727-fba461dc71b6",
   "metadata": {},
   "outputs": [],
   "source": [
    "pbmc = sciv.datasets.pbmc68k_reduced()"
   ]
  },
  {
   "cell_type": "code",
   "execution_count": null,
   "id": "4f44b91d-7696-45b2-b777-8dfcf74d0ade",
   "metadata": {},
   "outputs": [],
   "source": [
    "sciv.open(pbmc, 500)"
   ]
  },
  {
   "cell_type": "code",
   "execution_count": null,
   "id": "f9ec141c-8ce3-430b-9eb9-7472fb4dd78a",
   "metadata": {},
   "outputs": [],
   "source": [
    "sciv.embed()"
   ]
  }
 ],
 "metadata": {
  "kernelspec": {
   "display_name": "Python 3 (ipykernel)",
   "language": "python",
   "name": "python3"
  },
  "language_info": {
   "codemirror_mode": {
    "name": "ipython",
    "version": 3
   },
   "file_extension": ".py",
   "mimetype": "text/x-python",
   "name": "python",
   "nbconvert_exporter": "python",
   "pygments_lexer": "ipython3",
   "version": "3.8.13"
  }
 },
 "nbformat": 4,
 "nbformat_minor": 5
}
