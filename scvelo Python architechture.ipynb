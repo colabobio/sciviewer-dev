{
 "cells": [
  {
   "cell_type": "code",
   "execution_count": 40,
   "id": "f44223f0",
   "metadata": {},
   "outputs": [
    {
     "name": "stdout",
     "output_type": "stream",
     "text": [
      "Obtaining scvelo from git+https://github.com/JustinGuerra213/scvelo.git#egg=scvelo\n",
      "  Updating c:\\users\\justi\\src\\scvelo clone\n",
      "  Installing build dependencies: started\n",
      "  Installing build dependencies: finished with status 'done'\n",
      "  Checking if build backend supports build_editable: started\n",
      "  Checking if build backend supports build_editable: finished with status 'done'\n",
      "  Getting requirements to build editable: started\n",
      "  Getting requirements to build editable: finished with status 'done'\n",
      "  Preparing editable metadata (pyproject.toml): started\n",
      "  Preparing editable metadata (pyproject.toml): finished with status 'done'\n",
      "Requirement already satisfied: numba>=0.41.0 in c:\\users\\justi\\anaconda3\\lib\\site-packages (from scvelo) (0.55.1)\n",
      "Requirement already satisfied: scanpy>=1.5 in c:\\users\\justi\\anaconda3\\lib\\site-packages (from scvelo) (1.9.1)\n",
      "Requirement already satisfied: numpy>=1.17 in c:\\users\\justi\\anaconda3\\lib\\site-packages (from scvelo) (1.21.5)\n",
      "Requirement already satisfied: scikit-learn<1.2.0,>=0.21.2 in c:\\users\\justi\\anaconda3\\lib\\site-packages (from scvelo) (1.0.2)\n",
      "Requirement already satisfied: anndata>=0.7.5 in c:\\users\\justi\\anaconda3\\lib\\site-packages (from scvelo) (0.8.0)\n",
      "Requirement already satisfied: scipy>=1.4.1 in c:\\users\\justi\\anaconda3\\lib\\site-packages (from scvelo) (1.9.1)\n",
      "Requirement already satisfied: pandas!=1.4.0,>=0.23 in c:\\users\\justi\\anaconda3\\lib\\site-packages (from scvelo) (1.4.4)\n",
      "Requirement already satisfied: umap-learn>=0.3.10 in c:\\users\\justi\\anaconda3\\lib\\site-packages (from scvelo) (0.5.3)\n",
      "Requirement already satisfied: loompy>=2.0.12 in c:\\users\\justi\\anaconda3\\lib\\site-packages (from scvelo) (3.0.7)\n",
      "Requirement already satisfied: matplotlib>=3.3.0 in c:\\users\\justi\\anaconda3\\lib\\site-packages (from scvelo) (3.5.2)\n",
      "Requirement already satisfied: packaging>=20 in c:\\users\\justi\\anaconda3\\lib\\site-packages (from anndata>=0.7.5->scvelo) (21.3)\n",
      "Requirement already satisfied: h5py>=3 in c:\\users\\justi\\anaconda3\\lib\\site-packages (from anndata>=0.7.5->scvelo) (3.7.0)\n",
      "Requirement already satisfied: natsort in c:\\users\\justi\\anaconda3\\lib\\site-packages (from anndata>=0.7.5->scvelo) (8.2.0)\n",
      "Requirement already satisfied: click in c:\\users\\justi\\anaconda3\\lib\\site-packages (from loompy>=2.0.12->scvelo) (8.0.4)\n",
      "Requirement already satisfied: setuptools in c:\\users\\justi\\anaconda3\\lib\\site-packages (from loompy>=2.0.12->scvelo) (63.4.1)\n",
      "Requirement already satisfied: numpy-groupies in c:\\users\\justi\\anaconda3\\lib\\site-packages (from loompy>=2.0.12->scvelo) (0.9.20)\n",
      "Requirement already satisfied: pyparsing>=2.2.1 in c:\\users\\justi\\anaconda3\\lib\\site-packages (from matplotlib>=3.3.0->scvelo) (3.0.9)\n",
      "Requirement already satisfied: cycler>=0.10 in c:\\users\\justi\\anaconda3\\lib\\site-packages (from matplotlib>=3.3.0->scvelo) (0.11.0)\n",
      "Requirement already satisfied: fonttools>=4.22.0 in c:\\users\\justi\\anaconda3\\lib\\site-packages (from matplotlib>=3.3.0->scvelo) (4.25.0)\n",
      "Requirement already satisfied: python-dateutil>=2.7 in c:\\users\\justi\\anaconda3\\lib\\site-packages (from matplotlib>=3.3.0->scvelo) (2.8.2)\n",
      "Requirement already satisfied: pillow>=6.2.0 in c:\\users\\justi\\anaconda3\\lib\\site-packages (from matplotlib>=3.3.0->scvelo) (9.2.0)\n",
      "Requirement already satisfied: kiwisolver>=1.0.1 in c:\\users\\justi\\anaconda3\\lib\\site-packages (from matplotlib>=3.3.0->scvelo) (1.4.2)\n",
      "Requirement already satisfied: llvmlite<0.39,>=0.38.0rc1 in c:\\users\\justi\\anaconda3\\lib\\site-packages (from numba>=0.41.0->scvelo) (0.38.0)\n",
      "Requirement already satisfied: pytz>=2020.1 in c:\\users\\justi\\anaconda3\\lib\\site-packages (from pandas!=1.4.0,>=0.23->scvelo) (2022.1)\n",
      "Requirement already satisfied: tqdm in c:\\users\\justi\\anaconda3\\lib\\site-packages (from scanpy>=1.5->scvelo) (4.64.1)\n",
      "Requirement already satisfied: statsmodels>=0.10.0rc2 in c:\\users\\justi\\anaconda3\\lib\\site-packages (from scanpy>=1.5->scvelo) (0.13.2)\n",
      "Requirement already satisfied: joblib in c:\\users\\justi\\anaconda3\\lib\\site-packages (from scanpy>=1.5->scvelo) (1.2.0)\n",
      "Requirement already satisfied: session-info in c:\\users\\justi\\anaconda3\\lib\\site-packages (from scanpy>=1.5->scvelo) (1.0.0)\n",
      "Requirement already satisfied: seaborn in c:\\users\\justi\\anaconda3\\lib\\site-packages (from scanpy>=1.5->scvelo) (0.11.2)\n",
      "Requirement already satisfied: patsy in c:\\users\\justi\\anaconda3\\lib\\site-packages (from scanpy>=1.5->scvelo) (0.5.2)\n",
      "Requirement already satisfied: networkx>=2.3 in c:\\users\\justi\\anaconda3\\lib\\site-packages (from scanpy>=1.5->scvelo) (2.8.4)\n",
      "Requirement already satisfied: threadpoolctl>=2.0.0 in c:\\users\\justi\\anaconda3\\lib\\site-packages (from scikit-learn<1.2.0,>=0.21.2->scvelo) (2.2.0)\n",
      "Requirement already satisfied: pynndescent>=0.5 in c:\\users\\justi\\anaconda3\\lib\\site-packages (from umap-learn>=0.3.10->scvelo) (0.5.8)\n",
      "Requirement already satisfied: six>=1.5 in c:\\users\\justi\\anaconda3\\lib\\site-packages (from python-dateutil>=2.7->matplotlib>=3.3.0->scvelo) (1.16.0)\n",
      "Requirement already satisfied: colorama in c:\\users\\justi\\anaconda3\\lib\\site-packages (from click->loompy>=2.0.12->scvelo) (0.4.5)\n",
      "Requirement already satisfied: stdlib-list in c:\\users\\justi\\anaconda3\\lib\\site-packages (from session-info->scanpy>=1.5->scvelo) (0.8.0)\n",
      "Building wheels for collected packages: scvelo\n",
      "  Building editable for scvelo (pyproject.toml): started\n",
      "  Building editable for scvelo (pyproject.toml): finished with status 'done'\n",
      "  Created wheel for scvelo: filename=scvelo-0.2.5-0.editable-py3-none-any.whl size=6846 sha256=24207f84aae91582cbcbe2de8d1a14776086d6ba0303e4e2cfc0601b6ad0f406\n",
      "  Stored in directory: C:\\Users\\justi\\AppData\\Local\\Temp\\pip-ephem-wheel-cache-ap7zyhyy\\wheels\\9b\\9a\\ab\\239310d7402eecb36a61c9622b09922138795b58514aad6f2a\n",
      "Successfully built scvelo\n",
      "Installing collected packages: scvelo\n",
      "  Attempting uninstall: scvelo\n",
      "    Found existing installation: scvelo 0.2.5\n",
      "    Uninstalling scvelo-0.2.5:\n",
      "      Successfully uninstalled scvelo-0.2.5\n",
      "Successfully installed scvelo-0.2.5\n",
      "Note: you may need to restart the kernel to use updated packages.\n"
     ]
    },
    {
     "name": "stderr",
     "output_type": "stream",
     "text": [
      "  Running command git fetch -q --tags\n",
      "  Running command git reset --hard -q 355e768b1d398bceb89b0f7cbad105486e64e3f6\n"
     ]
    }
   ],
   "source": [
    "pip install -e git+https://github.com/JustinGuerra213/scvelo.git#egg=scvelo"
   ]
  },
  {
   "cell_type": "code",
   "execution_count": 41,
   "id": "7f3fd297",
   "metadata": {},
   "outputs": [],
   "source": [
    "from scvelo.plotting import sciviewer"
   ]
  },
  {
   "cell_type": "code",
   "execution_count": 42,
   "id": "bc511be4",
   "metadata": {},
   "outputs": [
    {
     "data": {
      "text/plain": [
       "'Hello!'"
      ]
     },
     "execution_count": 42,
     "metadata": {},
     "output_type": "execute_result"
    }
   ],
   "source": [
    "sciviewer.sciViewerWelcome()"
   ]
  },
  {
   "cell_type": "code",
   "execution_count": null,
   "id": "c5be2ecb",
   "metadata": {},
   "outputs": [],
   "source": []
  }
 ],
 "metadata": {
  "kernelspec": {
   "display_name": "Python 3 (ipykernel)",
   "language": "python",
   "name": "python3"
  },
  "language_info": {
   "codemirror_mode": {
    "name": "ipython",
    "version": 3
   },
   "file_extension": ".py",
   "mimetype": "text/x-python",
   "name": "python",
   "nbconvert_exporter": "python",
   "pygments_lexer": "ipython3",
   "version": "3.9.13"
  }
 },
 "nbformat": 4,
 "nbformat_minor": 5
}
