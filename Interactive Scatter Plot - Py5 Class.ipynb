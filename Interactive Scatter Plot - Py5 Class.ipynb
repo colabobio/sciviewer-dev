{
 "cells": [
  {
   "cell_type": "code",
   "execution_count": 1,
   "id": "04622742-02cf-465e-a640-c525c2aa912e",
   "metadata": {},
   "outputs": [],
   "source": [
    "import py5\n",
    "import py5_tools\n",
    "from py5 import Sketch\n",
    "import numpy as np\n",
    "import pandas as pd"
   ]
  },
  {
   "cell_type": "code",
   "execution_count": 2,
   "id": "f44ce9e0-5d9f-45a1-ad4f-468c17d35dc7",
   "metadata": {},
   "outputs": [],
   "source": [
    "# Create a dataset:\n",
    "df=pd.DataFrame({'x_values': [250, 123, 302, 325, 389, 175], 'y_values': [134, 262, 349, 122, 213, 319] })"
   ]
  },
  {
   "cell_type": "code",
   "execution_count": 3,
   "id": "facbb8cc-813d-47b0-982c-bae1a7b266d9",
   "metadata": {},
   "outputs": [],
   "source": [
    "x_axis = 400\n",
    "y_axis = 400\n",
    "point_thick = 8"
   ]
  },
  {
   "cell_type": "code",
   "execution_count": 4,
   "id": "13fa59b5-653d-4784-84bf-b09df0a307f4",
   "metadata": {},
   "outputs": [],
   "source": [
    "class SCIViewer(Sketch):\n",
    "    \n",
    "    def __init__(self, w, h, wt, df):\n",
    "        super().__init__()\n",
    "        self.w = w\n",
    "        self.h = h\n",
    "        self.wt = wt\n",
    "        self.df = df\n",
    "    \n",
    "    def settings(self):\n",
    "        self.size(self.w, self.h, py5.P2D)\n",
    "        \n",
    "    def setup(self):\n",
    "        self.stroke_weight(self.wt)\n",
    "        \n",
    "    def draw(self):\n",
    "        self.background(192)\n",
    "        for (x, y) in zip(self.df.x_values, self.df.y_values):       # Plot the scatterplot\n",
    "            self.ellipse(x, y, 5, 5)\n",
    "        \n",
    "    def mouse_clicked(self, e):\n",
    "        self.println(e.get_x(), e.get_y())\n",
    "        self.background(255, 0, 0)\n",
    "    \n",
    "        msgs = []\n",
    "    \n",
    "        for (x, y) in zip(self.df.x_values, self.df.y_values):\n",
    "        \n",
    "            range_1 = range(x-10, x+10, 1)\n",
    "            range_2 = range(y-10, y+10, 1)\n",
    "        \n",
    "            if e.get_x() in range_1 and e.get_y() in range_2:\n",
    "                self.println(e.get_x(), e.get_y())\n",
    "                msgs.append('Target acquired')\n",
    "                self.println(msgs)        \n",
    "        "
   ]
  },
  {
   "cell_type": "code",
   "execution_count": 7,
   "id": "1ccababa-9ffe-498a-be4b-efc5eeb4f11c",
   "metadata": {},
   "outputs": [],
   "source": [
    "def show_portal():\n",
    "    sciviewer = SCIViewer(w=x_axis, h=x_axis, wt=point_thick, df=df)\n",
    "    sciviewer.run_sketch()\n",
    "    portal = py5_tools.sketch_portal(sketch=sciviewer, quality=75, scale=1.0)\n",
    "    return portal"
   ]
  },
  {
   "cell_type": "code",
   "execution_count": 8,
   "id": "f6e2259a-fe57-4a94-ba50-e533942d3641",
   "metadata": {},
   "outputs": [
    {
     "data": {
      "application/vnd.jupyter.widget-view+json": {
       "model_id": "6aa8f3d1a1de4065a791910ce5a0cbb5",
       "version_major": 2,
       "version_minor": 0
      },
      "text/plain": [
       "Output(layout=Layout(max_height='200px', overflow='auto'))"
      ]
     },
     "metadata": {},
     "output_type": "display_data"
    },
    {
     "data": {
      "application/vnd.jupyter.widget-view+json": {
       "model_id": "934dcb57348344e6840300951ce2a19a",
       "version_major": 2,
       "version_minor": 0
      },
      "text/plain": [
       "VBox(children=(Py5SketchPortal(height='400', layout=Layout(border='1px solid gray', height='402px', width='402…"
      ]
     },
     "metadata": {},
     "output_type": "display_data"
    },
    {
     "name": "stdout",
     "output_type": "stream",
     "text": [
      "56 213\n",
      "123 146\n",
      "243 215\n"
     ]
    }
   ],
   "source": [
    "show_portal()"
   ]
  },
  {
   "cell_type": "code",
   "execution_count": null,
   "id": "89e9683d-83b3-40f1-b1f1-7477a555bd35",
   "metadata": {},
   "outputs": [],
   "source": []
  }
 ],
 "metadata": {
  "kernelspec": {
   "display_name": "Python 3 (ipykernel)",
   "language": "python",
   "name": "python3"
  },
  "language_info": {
   "codemirror_mode": {
    "name": "ipython",
    "version": 3
   },
   "file_extension": ".py",
   "mimetype": "text/x-python",
   "name": "python",
   "nbconvert_exporter": "python",
   "pygments_lexer": "ipython3",
   "version": "3.9.13"
  }
 },
 "nbformat": 4,
 "nbformat_minor": 5
}
