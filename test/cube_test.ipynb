{
 "cells": [
  {
   "cell_type": "code",
   "execution_count": 1,
   "id": "213a9066-830f-4a43-aee4-84ffc0d87a8c",
   "metadata": {
    "tags": []
   },
   "outputs": [
    {
     "name": "stdout",
     "output_type": "stream",
     "text": [
      "Importing py5 on OSX but the necessary Jupyter OSX event loop has not been activated. I'll activate it for you, but next time, execute `%gui osx` before importing this library.\n"
     ]
    }
   ],
   "source": [
    "import py5_tools\n",
    "import py5\n",
    "import time"
   ]
  },
  {
   "cell_type": "code",
   "execution_count": 2,
   "id": "ff1bdf59-d3a1-4670-96ca-3a6af5eb2779",
   "metadata": {
    "tags": []
   },
   "outputs": [],
   "source": [
    "class Test(py5.Sketch):\n",
    "\n",
    "    def settings(self):\n",
    "        self.size(400, 400, py5.P3D)\n",
    "    \n",
    "    def setup(self):\n",
    "        self.rot_x = 0\n",
    "        self.rot_y = 0\n",
    "        self.rot_z = 0\n",
    "\n",
    "        self.frame_rate(30)\n",
    "        self.stroke_weight(8)\n",
    "        self.stroke(0)\n",
    "        self.no_fill()\n",
    "    \n",
    "    def draw(self):\n",
    "        self.background(192)\n",
    "\n",
    "        self.rot_x += 0.8\n",
    "        self.rot_y += 0.3\n",
    "        self.rot_z += 0.5\n",
    " \n",
    "        self.translate(self.width / 2, self.height / 2, -200)\n",
    "        self.rotate_x(self.radians(self.rot_x))\n",
    "        self.rotate_y(self.radians(self.rot_y))\n",
    "        self.rotate_z(self.radians(self.rot_z))\n",
    "\n",
    "        self.box(250) "
   ]
  },
  {
   "cell_type": "code",
   "execution_count": 11,
   "id": "97173eb9-f733-40af-9c00-6a9e47be0a6f",
   "metadata": {
    "tags": []
   },
   "outputs": [
    {
     "data": {
      "application/vnd.jupyter.widget-view+json": {
       "model_id": "c1025155757e4e66b0840511cc9be0f3",
       "version_major": 2,
       "version_minor": 0
      },
      "text/plain": [
       "Output(layout=Layout(max_height='200px', overflow='auto'))"
      ]
     },
     "metadata": {},
     "output_type": "display_data"
    },
    {
     "data": {
      "application/vnd.jupyter.widget-view+json": {
       "model_id": "1673324c363b45f6ac82d3f4a1ad0900",
       "version_major": 2,
       "version_minor": 0
      },
      "text/plain": [
       "VBox(children=(Py5SketchPortal(height='400', layout=Layout(border_bottom='1px solid gray', border_left='1px so…"
      ]
     },
     "execution_count": 11,
     "metadata": {},
     "output_type": "execute_result"
    }
   ],
   "source": [
    "test = Test()\n",
    "test.run_sketch()\n",
    "while not test.is_running: continue\n",
    "portal = py5_tools.sketch_portal(sketch=test, quality=75, scale=1.0)\n",
    "portal"
   ]
  },
  {
   "cell_type": "code",
   "execution_count": null,
   "id": "186110a6-075a-41dd-9f24-49cf0849935c",
   "metadata": {},
   "outputs": [],
   "source": []
  }
 ],
 "metadata": {
  "kernelspec": {
   "display_name": "Python 3 (ipykernel)",
   "language": "python",
   "name": "python3"
  },
  "language_info": {
   "codemirror_mode": {
    "name": "ipython",
    "version": 3
   },
   "file_extension": ".py",
   "mimetype": "text/x-python",
   "name": "python",
   "nbconvert_exporter": "python",
   "pygments_lexer": "ipython3",
   "version": "3.8.16"
  }
 },
 "nbformat": 4,
 "nbformat_minor": 5
}
