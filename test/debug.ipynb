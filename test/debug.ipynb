{
 "cells": [
  {
   "cell_type": "code",
   "execution_count": 1,
   "id": "5a6cc55a-c584-48c7-9c2f-f9d023b737a6",
   "metadata": {
    "tags": []
   },
   "outputs": [],
   "source": [
    "%load_ext autoreload\n",
    "%autoreload 2\n",
    "\n",
    "import sys\n",
    "sys.path.insert(0, '../src')"
   ]
  },
  {
   "cell_type": "code",
   "execution_count": 2,
   "id": "38168096-a930-4278-92ed-2c51787d79b2",
   "metadata": {},
   "outputs": [],
   "source": [
    "import sciviewer as sci"
   ]
  },
  {
   "cell_type": "code",
   "execution_count": 3,
   "id": "be99920d-2467-4101-8005-c50bbe4a8220",
   "metadata": {},
   "outputs": [],
   "source": [
    "pbmc = sci.datasets.pbmc68k_reduced()"
   ]
  },
  {
   "cell_type": "code",
   "execution_count": 4,
   "id": "c439ef68-9815-458c-b337-606516a45746",
   "metadata": {
    "tags": []
   },
   "outputs": [],
   "source": [
    "sci.view(pbmc, 1250)"
   ]
  },
  {
   "cell_type": "code",
   "execution_count": 5,
   "id": "d185d939-3b78-4ccc-9e65-ac9a1b56dcfe",
   "metadata": {
    "tags": []
   },
   "outputs": [
    {
     "data": {
      "application/vnd.jupyter.widget-view+json": {
       "model_id": "b375d119487e46faafb21f470ced8e4d",
       "version_major": 2,
       "version_minor": 0
      },
      "text/plain": [
       "Output(layout=Layout(max_height='200px', overflow='auto'))"
      ]
     },
     "metadata": {},
     "output_type": "display_data"
    },
    {
     "data": {
      "application/vnd.jupyter.widget-view+json": {
       "model_id": "0e0fcfa43a0d42679f6bdea6bf8eda57",
       "version_major": 2,
       "version_minor": 0
      },
      "text/plain": [
       "VBox(children=(Py5SketchPortal(height='500', layout=Layout(border_bottom='1px solid gray', border_left='1px so…"
      ]
     },
     "execution_count": 5,
     "metadata": {},
     "output_type": "execute_result"
    }
   ],
   "source": [
    "sci.embed()"
   ]
  },
  {
   "cell_type": "code",
   "execution_count": null,
   "id": "a4797a06-cd7b-442d-aee0-e8a4ebcfe6af",
   "metadata": {},
   "outputs": [],
   "source": []
  }
 ],
 "metadata": {
  "kernelspec": {
   "display_name": "Python 3 (ipykernel)",
   "language": "python",
   "name": "python3"
  },
  "language_info": {
   "codemirror_mode": {
    "name": "ipython",
    "version": 3
   },
   "file_extension": ".py",
   "mimetype": "text/x-python",
   "name": "python",
   "nbconvert_exporter": "python",
   "pygments_lexer": "ipython3",
   "version": "3.8.16"
  }
 },
 "nbformat": 4,
 "nbformat_minor": 5
}
