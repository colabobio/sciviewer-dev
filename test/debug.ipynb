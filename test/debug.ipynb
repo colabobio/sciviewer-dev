{
 "cells": [
  {
   "cell_type": "code",
   "execution_count": null,
   "id": "5a6cc55a-c584-48c7-9c2f-f9d023b737a6",
   "metadata": {
    "tags": []
   },
   "outputs": [],
   "source": [
    "%load_ext autoreload\n",
    "%autoreload 2\n",
    "\n",
    "import sys\n",
    "sys.path.insert(0, '../src')"
   ]
  },
  {
   "cell_type": "code",
   "execution_count": null,
   "id": "38168096-a930-4278-92ed-2c51787d79b2",
   "metadata": {},
   "outputs": [],
   "source": [
    "import sciviewer as sci"
   ]
  },
  {
   "cell_type": "code",
   "execution_count": null,
   "id": "be99920d-2467-4101-8005-c50bbe4a8220",
   "metadata": {},
   "outputs": [],
   "source": [
    "pbmc = sci.datasets.pbmc68k_reduced()"
   ]
  },
  {
   "cell_type": "code",
   "execution_count": null,
   "id": "c439ef68-9815-458c-b337-606516a45746",
   "metadata": {
    "tags": []
   },
   "outputs": [],
   "source": [
    "sci.view(pbmc, 500)"
   ]
  },
  {
   "cell_type": "code",
   "execution_count": null,
   "id": "d185d939-3b78-4ccc-9e65-ac9a1b56dcfe",
   "metadata": {
    "tags": []
   },
   "outputs": [],
   "source": [
    "sci.embed()"
   ]
  }
 ],
 "metadata": {
  "kernelspec": {
   "display_name": "Python 3 (ipykernel)",
   "language": "python",
   "name": "python3"
  },
  "language_info": {
   "codemirror_mode": {
    "name": "ipython",
    "version": 3
   },
   "file_extension": ".py",
   "mimetype": "text/x-python",
   "name": "python",
   "nbconvert_exporter": "python",
   "pygments_lexer": "ipython3",
   "version": "3.8.16"
  }
 },
 "nbformat": 4,
 "nbformat_minor": 5
}
