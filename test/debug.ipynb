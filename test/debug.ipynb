{
 "cells": [
  {
   "cell_type": "code",
   "execution_count": 4,
   "id": "636e6bbe-749b-40bb-9c67-c14eca08bb20",
   "metadata": {
    "tags": []
   },
   "outputs": [],
   "source": [
    "from sciviewer import plotting"
   ]
  },
  {
   "cell_type": "code",
   "execution_count": 5,
   "id": "5a6cc55a-c584-48c7-9c2f-f9d023b737a6",
   "metadata": {
    "tags": []
   },
   "outputs": [],
   "source": [
    "test = plotting.Test()"
   ]
  },
  {
   "cell_type": "code",
   "execution_count": 6,
   "id": "a01d98d7-e70d-461b-901d-e8002ab78df8",
   "metadata": {
    "tags": []
   },
   "outputs": [],
   "source": [
    "test.run_sketch()"
   ]
  },
  {
   "cell_type": "code",
   "execution_count": null,
   "id": "8d3695a1-1e12-4e84-b5ed-804514535b7c",
   "metadata": {},
   "outputs": [],
   "source": []
  }
 ],
 "metadata": {
  "kernelspec": {
   "display_name": "Python 3 (ipykernel)",
   "language": "python",
   "name": "python3"
  },
  "language_info": {
   "codemirror_mode": {
    "name": "ipython",
    "version": 3
   },
   "file_extension": ".py",
   "mimetype": "text/x-python",
   "name": "python",
   "nbconvert_exporter": "python",
   "pygments_lexer": "ipython3",
   "version": "3.8.16"
  }
 },
 "nbformat": 4,
 "nbformat_minor": 5
}
