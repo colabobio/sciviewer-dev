{
 "cells": [
  {
   "cell_type": "code",
   "execution_count": null,
   "id": "636e6bbe-749b-40bb-9c67-c14eca08bb20",
   "metadata": {
    "tags": []
   },
   "outputs": [],
   "source": [
    "from sciviewer import plotting\n",
    "import py5_tools\n",
    "import time"
   ]
  },
  {
   "cell_type": "code",
   "execution_count": null,
   "id": "5a6cc55a-c584-48c7-9c2f-f9d023b737a6",
   "metadata": {
    "tags": []
   },
   "outputs": [],
   "source": [
    "plotting.view()"
   ]
  },
  {
   "cell_type": "code",
   "execution_count": 4,
   "id": "c439ef68-9815-458c-b337-606516a45746",
   "metadata": {
    "tags": []
   },
   "outputs": [],
   "source": [
    "def view2():\n",
    "    test = plotting.Test()\n",
    "    test.run_sketch()\n",
    "\n",
    "    # We wait until the sketch is running\n",
    "    while not test.is_running: \n",
    "        print(test.is_running)\n",
    "        time.sleep(0.25)\n",
    "        continue\n",
    "\n",
    "    portal = py5_tools.sketch_portal(sketch=test, quality=75, scale=1.0)\n",
    "    return portal"
   ]
  },
  {
   "cell_type": "code",
   "execution_count": null,
   "id": "d185d939-3b78-4ccc-9e65-ac9a1b56dcfe",
   "metadata": {
    "tags": []
   },
   "outputs": [],
   "source": [
    "view2()"
   ]
  },
  {
   "cell_type": "code",
   "execution_count": null,
   "id": "d4fb03fa-619a-444d-b5ec-132abc95de32",
   "metadata": {},
   "outputs": [],
   "source": []
  }
 ],
 "metadata": {
  "kernelspec": {
   "display_name": "Python 3 (ipykernel)",
   "language": "python",
   "name": "python3"
  },
  "language_info": {
   "codemirror_mode": {
    "name": "ipython",
    "version": 3
   },
   "file_extension": ".py",
   "mimetype": "text/x-python",
   "name": "python",
   "nbconvert_exporter": "python",
   "pygments_lexer": "ipython3",
   "version": "3.8.16"
  }
 },
 "nbformat": 4,
 "nbformat_minor": 5
}
