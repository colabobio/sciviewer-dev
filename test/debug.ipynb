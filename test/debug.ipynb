{
 "cells": [
  {
   "cell_type": "code",
   "execution_count": 1,
   "id": "636e6bbe-749b-40bb-9c67-c14eca08bb20",
   "metadata": {
    "tags": []
   },
   "outputs": [],
   "source": [
    "from sciviewer import example"
   ]
  },
  {
   "cell_type": "code",
   "execution_count": 2,
   "id": "5a6cc55a-c584-48c7-9c2f-f9d023b737a6",
   "metadata": {
    "tags": []
   },
   "outputs": [
    {
     "data": {
      "text/plain": [
       "2"
      ]
     },
     "execution_count": 2,
     "metadata": {},
     "output_type": "execute_result"
    }
   ],
   "source": [
    "example.add_one(1)\n"
   ]
  },
  {
   "cell_type": "code",
   "execution_count": 3,
   "id": "a01d98d7-e70d-461b-901d-e8002ab78df8",
   "metadata": {
    "tags": []
   },
   "outputs": [
    {
     "data": {
      "text/plain": [
       "3"
      ]
     },
     "execution_count": 3,
     "metadata": {},
     "output_type": "execute_result"
    }
   ],
   "source": [
    "example.add_two(1)"
   ]
  },
  {
   "cell_type": "code",
   "execution_count": 4,
   "id": "8a0751fe-d054-4c19-9f9b-a933ab16ba3d",
   "metadata": {
    "tags": []
   },
   "outputs": [
    {
     "data": {
      "text/plain": [
       "4"
      ]
     },
     "execution_count": 4,
     "metadata": {},
     "output_type": "execute_result"
    }
   ],
   "source": [
    "example.add_three(1)"
   ]
  },
  {
   "cell_type": "code",
   "execution_count": null,
   "id": "d10ba250-7634-47bd-b610-9a66b25e64d6",
   "metadata": {},
   "outputs": [],
   "source": []
  }
 ],
 "metadata": {
  "kernelspec": {
   "display_name": "Python 3 (ipykernel)",
   "language": "python",
   "name": "python3"
  },
  "language_info": {
   "codemirror_mode": {
    "name": "ipython",
    "version": 3
   },
   "file_extension": ".py",
   "mimetype": "text/x-python",
   "name": "python",
   "nbconvert_exporter": "python",
   "pygments_lexer": "ipython3",
   "version": "3.8.16"
  }
 },
 "nbformat": 4,
 "nbformat_minor": 5
}
