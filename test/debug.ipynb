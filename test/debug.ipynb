{
 "cells": [
  {
   "cell_type": "code",
   "execution_count": null,
   "id": "5a6cc55a-c584-48c7-9c2f-f9d023b737a6",
   "metadata": {
    "tags": []
   },
   "outputs": [
    {
     "name": "stdout",
     "output_type": "stream",
     "text": [
      "The autoreload extension is already loaded. To reload it, use:\n",
      "  %reload_ext autoreload\n"
     ]
    }
   ],
   "source": [
    "%load_ext autoreload\n",
    "%autoreload 2\n",
    "\n",
    "import sys\n",
    "sys.path.insert(0, '../src')\n",
    "\n",
    "import sciviewer as sciv"
   ]
  },
  {
   "cell_type": "code",
   "execution_count": 21,
   "id": "be99920d-2467-4101-8005-c50bbe4a8220",
   "metadata": {},
   "outputs": [],
   "source": [
    "pbmc = sciv.datasets.pbmc68k_reduced()"
   ]
  },
  {
   "cell_type": "code",
   "execution_count": 22,
   "id": "50ed581d-9728-4d78-9d2b-370cce8ed3e1",
   "metadata": {},
   "outputs": [],
   "source": [
    "umap = pbmc.obsm[\"X_umap\"]\n",
    "gene_names = pbmc.var.index.tolist()\n",
    "cell_names = pbmc.obs.index.tolist()"
   ]
  },
  {
   "cell_type": "code",
   "execution_count": 23,
   "id": "8d0fb122-7b88-408f-9ef4-6e0b02b1ef04",
   "metadata": {},
   "outputs": [
    {
     "data": {
      "text/plain": [
       "array([[ -1.99186255,   8.57641706],\n",
       "       [ -3.24869194,   7.99994913],\n",
       "       [ -3.59310303,  -2.22675898],\n",
       "       ...,\n",
       "       [ -5.98349489,  -5.86929568],\n",
       "       [-12.35074674,  -4.4339864 ],\n",
       "       [  5.90649366,  -3.57606702]])"
      ]
     },
     "execution_count": 23,
     "metadata": {},
     "output_type": "execute_result"
    }
   ],
   "source": [
    "umap"
   ]
  },
  {
   "cell_type": "code",
   "execution_count": 17,
   "id": "c439ef68-9815-458c-b337-606516a45746",
   "metadata": {
    "tags": []
   },
   "outputs": [],
   "source": [
    "sciv.open(pbmc, 500)"
   ]
  },
  {
   "cell_type": "code",
   "execution_count": 18,
   "id": "d185d939-3b78-4ccc-9e65-ac9a1b56dcfe",
   "metadata": {
    "tags": []
   },
   "outputs": [
    {
     "data": {
      "application/vnd.jupyter.widget-view+json": {
       "model_id": "3ed3b199b02f4338aa40ec274a8667d2",
       "version_major": 2,
       "version_minor": 0
      },
      "text/plain": [
       "Output(layout=Layout(max_height='200px', overflow='auto'))"
      ]
     },
     "metadata": {},
     "output_type": "display_data"
    },
    {
     "data": {
      "application/vnd.jupyter.widget-view+json": {
       "model_id": "8038541a73994d6da39f359e94547ebf",
       "version_major": 2,
       "version_minor": 0
      },
      "text/plain": [
       "VBox(children=(Py5SketchPortal(height='500', layout=Layout(border_bottom='1px solid gray', border_left='1px so…"
      ]
     },
     "execution_count": 25,
     "metadata": {},
     "output_type": "execute_result"
    }
   ],
   "source": [
    "sciv.embed()"
   ]
  },
  {
   "cell_type": "code",
   "execution_count": null,
   "id": "5e01029c-bc9d-446f-8468-b077fb88e58f",
   "metadata": {},
   "outputs": [],
   "source": []
  }
 ],
 "metadata": {
  "kernelspec": {
   "display_name": "Python 3 (ipykernel)",
   "language": "python",
   "name": "python3"
  },
  "language_info": {
   "codemirror_mode": {
    "name": "ipython",
    "version": 3
   },
   "file_extension": ".py",
   "mimetype": "text/x-python",
   "name": "python",
   "nbconvert_exporter": "python",
   "pygments_lexer": "ipython3",
   "version": "3.8.13"
  }
 },
 "nbformat": 4,
 "nbformat_minor": 5
}
