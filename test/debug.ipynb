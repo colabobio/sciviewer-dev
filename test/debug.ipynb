{
 "cells": [
  {
   "cell_type": "code",
   "execution_count": 1,
   "id": "636e6bbe-749b-40bb-9c67-c14eca08bb20",
   "metadata": {
    "tags": []
   },
   "outputs": [],
   "source": [
    "%load_ext autoreload\n",
    "%autoreload 2\n",
    "\n",
    "import sys\n",
    "sys.path.insert(0, '../src')\n",
    "\n",
    "import sciviewer"
   ]
  },
  {
   "cell_type": "code",
   "execution_count": 2,
   "id": "5a6cc55a-c584-48c7-9c2f-f9d023b737a6",
   "metadata": {
    "tags": []
   },
   "outputs": [
    {
     "name": "stdout",
     "output_type": "stream",
     "text": [
      "hello\n"
     ]
    }
   ],
   "source": [
    "sciviewer.test()"
   ]
  },
  {
   "cell_type": "code",
   "execution_count": 5,
   "id": "c439ef68-9815-458c-b337-606516a45746",
   "metadata": {
    "tags": []
   },
   "outputs": [],
   "source": [
    "sciviewer.open()"
   ]
  },
  {
   "cell_type": "code",
   "execution_count": 6,
   "id": "d185d939-3b78-4ccc-9e65-ac9a1b56dcfe",
   "metadata": {
    "tags": []
   },
   "outputs": [
    {
     "data": {
      "application/vnd.jupyter.widget-view+json": {
       "model_id": "5731a329eb164e8788624fb7488fab9a",
       "version_major": 2,
       "version_minor": 0
      },
      "text/plain": [
       "Output(layout=Layout(max_height='200px', overflow='auto'))"
      ]
     },
     "metadata": {},
     "output_type": "display_data"
    },
    {
     "data": {
      "application/vnd.jupyter.widget-view+json": {
       "model_id": "8f65ca0248d241178b09cc7d7ab32b0c",
       "version_major": 2,
       "version_minor": 0
      },
      "text/plain": [
       "VBox(children=(Py5SketchPortal(height='400', layout=Layout(border_bottom='1px solid gray', border_left='1px so…"
      ]
     },
     "execution_count": 6,
     "metadata": {},
     "output_type": "execute_result"
    }
   ],
   "source": [
    "sciviewer.embed()"
   ]
  },
  {
   "cell_type": "code",
   "execution_count": null,
   "id": "d4fb03fa-619a-444d-b5ec-132abc95de32",
   "metadata": {},
   "outputs": [],
   "source": []
  }
 ],
 "metadata": {
  "kernelspec": {
   "display_name": "Python 3 (ipykernel)",
   "language": "python",
   "name": "python3"
  },
  "language_info": {
   "codemirror_mode": {
    "name": "ipython",
    "version": 3
   },
   "file_extension": ".py",
   "mimetype": "text/x-python",
   "name": "python",
   "nbconvert_exporter": "python",
   "pygments_lexer": "ipython3",
   "version": "3.8.13"
  }
 },
 "nbformat": 4,
 "nbformat_minor": 5
}
