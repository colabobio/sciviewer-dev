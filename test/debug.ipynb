{
 "cells": [
  {
   "cell_type": "code",
   "execution_count": 1,
   "id": "5a6cc55a-c584-48c7-9c2f-f9d023b737a6",
   "metadata": {
    "tags": []
   },
   "outputs": [],
   "source": [
    "%load_ext autoreload\n",
    "%autoreload 2\n",
    "\n",
    "import sys\n",
    "sys.path.insert(0, '../src')"
   ]
  },
  {
   "cell_type": "code",
   "execution_count": 2,
   "id": "38168096-a930-4278-92ed-2c51787d79b2",
   "metadata": {},
   "outputs": [],
   "source": [
    "import sciviewer as sciv"
   ]
  },
  {
   "cell_type": "code",
   "execution_count": 3,
   "id": "be99920d-2467-4101-8005-c50bbe4a8220",
   "metadata": {},
   "outputs": [],
   "source": [
    "pbmc = sciv.datasets.pbmc68k_reduced()"
   ]
  },
  {
   "cell_type": "code",
   "execution_count": 4,
   "id": "c439ef68-9815-458c-b337-606516a45746",
   "metadata": {
    "tags": []
   },
   "outputs": [],
   "source": [
    "sciv.open(pbmc, 500)"
   ]
  },
  {
   "cell_type": "code",
   "execution_count": 5,
   "id": "d185d939-3b78-4ccc-9e65-ac9a1b56dcfe",
   "metadata": {
    "tags": []
   },
   "outputs": [
    {
     "data": {
      "application/vnd.jupyter.widget-view+json": {
       "model_id": "68574d117b8b4498b36d9a6df8cace0d",
       "version_major": 2,
       "version_minor": 0
      },
      "text/plain": [
       "Output(layout=Layout(max_height='200px', overflow='auto'))"
      ]
     },
     "metadata": {},
     "output_type": "display_data"
    },
    {
     "data": {
      "application/vnd.jupyter.widget-view+json": {
       "model_id": "d465856bcf3247ae88ca895a5f21eba1",
       "version_major": 2,
       "version_minor": 0
      },
      "text/plain": [
       "VBox(children=(Py5SketchPortal(height='500', layout=Layout(border_bottom='1px solid gray', border_left='1px so…"
      ]
     },
     "execution_count": 5,
     "metadata": {},
     "output_type": "execute_result"
    }
   ],
   "source": [
    "sciv.embed()"
   ]
  },
  {
   "cell_type": "code",
   "execution_count": null,
   "id": "5e01029c-bc9d-446f-8468-b077fb88e58f",
   "metadata": {},
   "outputs": [],
   "source": []
  }
 ],
 "metadata": {
  "kernelspec": {
   "display_name": "Python 3 (ipykernel)",
   "language": "python",
   "name": "python3"
  },
  "language_info": {
   "codemirror_mode": {
    "name": "ipython",
    "version": 3
   },
   "file_extension": ".py",
   "mimetype": "text/x-python",
   "name": "python",
   "nbconvert_exporter": "python",
   "pygments_lexer": "ipython3",
   "version": "3.8.13"
  }
 },
 "nbformat": 4,
 "nbformat_minor": 5
}
